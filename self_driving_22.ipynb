{
 "cells": [
  {
   "cell_type": "code",
   "execution_count": null,
   "id": "07f9b8e3",
   "metadata": {},
   "outputs": [],
   "source": [
    "# Abstract\n",
    "\n",
    "# Autonomous cars are the future smart cars anticipated to be driver less, efficient and crash avoiding ideal urban car of the future. To reach this goal automakers\n",
    "# have started working in this area to realized the potential and solve the challenges currently in this area to reach the expected outcome.\n",
    "# In this regard the first challenge would be to customize and imbibe existing technology in conventional vehicle to translate them to a near expected autonomous car.\n",
    "# This transition of conventional vehicles into an autonomous vehicle by adopting and implementing different upcoming technologies is discussed in this paper. \n",
    "# This includes the objectives of autonomous vehicles and their implementation difficulties. \n",
    "# The paper also touches upon the existing standards for the same and compares the introduction of autonomous vehicles in Indian market in comparison to other markets. \n",
    "# There after the acceptance approach in Indian market scenarios is discussed for autonomous vehicles.\n",
    "\n",
    "\n",
    "# Objective\n",
    "\n",
    "# objective of the autonomous vehicle is to decide on the acceleration to apply along a given path.\n",
    "# Two different scenarios are considered: right-turn and left-turn\n",
    "\n",
    "\n",
    "# INTRODUCTION\n",
    "\n",
    "# With advances in sensing, machine learning, and comput-ing systems, autonomous driving applications have becomefeasible.\n",
    "# Moreover, with the advent of communicationtechnologies like dedicated short range communications(DSRC), autonomous vehicles\n",
    "# can also communicate witheach other, pedestrians and the infrastructure in the envi-ronment around them. We refer to vehicles\n",
    "# with suchcapabilities as connected and autonomous vehicles (CAVs).As the number of applications and levels of autonomyincrease, \n",
    "# the complexity of CAVs continues to increase.\n",
    "\n",
    "\n",
    "# Methodology\n",
    "\n",
    "# This paper reviews the key technology of a self-driving car. In this paper, the four key technologies in self-driving car,\n",
    "# namely, car navigation system, path planning, environment perception andcar control, are addressed and surveyed.\n",
    "# The main research institutions and groups in different countries are summarized. Finally, the debates of self-driving\n",
    "# car are discussed and the development trend of self-driving car is predicted.\n",
    "\n",
    "\n",
    "# CODE\n",
    "# IN JUPYTER NOTEBOOK\n"
   ]
  },
  {
   "cell_type": "code",
   "execution_count": 5,
   "id": "69f450a0",
   "metadata": {},
   "outputs": [],
   "source": [
    "import os\n",
    "import cv2\n",
    "import random\n",
    "import numpy as np\n",
    "\n",
    "import pandas as pd\n",
    "from itertools import islice\n",
    "import scipy as pi"
   ]
  },
  {
   "cell_type": "code",
   "execution_count": 6,
   "id": "64b7d57c",
   "metadata": {},
   "outputs": [
    {
     "data": {
      "text/plain": [
       "'C:\\\\Users\\\\Dell'"
      ]
     },
     "execution_count": 6,
     "metadata": {},
     "output_type": "execute_result"
    }
   ],
   "source": [
    "os.getcwd()"
   ]
  },
  {
   "cell_type": "code",
   "execution_count": 7,
   "id": "9da63550",
   "metadata": {},
   "outputs": [],
   "source": [
    "DATA_FOLDER = 'C:\\\\Users\\\\Dell\\\\driving_dataset'\n",
    "TRAIN_FILE = os.path.join(DATA_FOLDER, 'data.txt')\n",
    "LIMIT = None"
   ]
  },
  {
   "cell_type": "code",
   "execution_count": null,
   "id": "dca832ab",
   "metadata": {},
   "outputs": [],
   "source": []
  },
  {
   "cell_type": "code",
   "execution_count": 8,
   "id": "bc93cb1e",
   "metadata": {},
   "outputs": [],
   "source": [
    "split = 0.8\n",
    "xs = []\n",
    "ys = []"
   ]
  },
  {
   "cell_type": "code",
   "execution_count": 10,
   "id": "f9274024",
   "metadata": {},
   "outputs": [
    {
     "name": "stdout",
     "output_type": "stream",
     "text": [
      "Successfull!!!\n"
     ]
    }
   ],
   "source": [
    "with open(\"driving_dataset/data.txt\") as f:\n",
    "    for line in f:\n",
    "        xs.append(\"driving_dataset/\" + line.split()[0])\n",
    "        #the paper by Nvidia uses the inverse of the turning radius,\n",
    "        #but steering wheel angle is proportional to the inverse of turning radius\n",
    "        #so the steering wheel angle in radians is used as the output\n",
    "        ys.append(float(line.split()[1]) * 3.14159265 / 180)\n",
    "\n",
    "\n",
    "# y = np.array(y)\n",
    "print(\"Successfull!!!\")\n",
    "    "
   ]
  },
  {
   "cell_type": "code",
   "execution_count": 11,
   "id": "d54ddce8",
   "metadata": {},
   "outputs": [],
   "source": [
    "num_images = len(xs)\n",
    "\n",
    "#shuffle list of images\n",
    "c = list(zip(xs, ys))\n",
    "random.shuffle(c)\n",
    "xs, ys = zip(*c)\n",
    "\n",
    "train_xs = xs[:int(len(xs) * 0.8)]\n",
    "train_ys = ys[:int(len(xs) * 0.8)]\n",
    "\n",
    "val_xs = xs[-int(len(xs) * 0.2):]\n",
    "val_ys = ys[-int(len(xs) * 0.2):]\n",
    "\n",
    "num_train_images = len(train_xs)\n",
    "num_val_images = len(val_xs)\n"
   ]
  },
  {
   "cell_type": "code",
   "execution_count": 12,
   "id": "bae1b558",
   "metadata": {},
   "outputs": [],
   "source": [
    "def LoadTrainBatch(batch_size):\n",
    "    global train_batch_pointer\n",
    "    x_out = []\n",
    "    y_out = []\n",
    "    for i in range(0, batch_size):\n",
    "        x_out.append(cv2.resize(cv2.imread(train_xs[(train_batch_pointer + i) % num_train_images])[-150:], (200, 66)) / 255.0)\n",
    "        y_out.append([train_ys[(train_batch_pointer + i) % num_train_images]])\n",
    "    train_batch_pointer += batch_size\n",
    "    return x_out, y_out"
   ]
  },
  {
   "cell_type": "code",
   "execution_count": null,
   "id": "0708c3b7",
   "metadata": {},
   "outputs": [],
   "source": [
    "def LoadValBatch(batch_size):\n",
    "    global val_batch_pointer\n",
    "    x_out = []\n",
    "    y_out = []\n",
    "    for i in range(0, batch_size):\n",
    "        x_out.append(cv2.resize(cv2.imread(val_xs[(val_batch_pointer + i) % num_val_images])[-150:], (200, 66)) / 255.0)\n",
    "        y_out.append([val_ys[(val_batch_pointer + i) % num_val_images]])\n",
    "    val_batch_pointer += batch_size\n",
    "    return x_out, y_out"
   ]
  }
 ],
 "metadata": {
  "kernelspec": {
   "display_name": "Python 3 (ipykernel)",
   "language": "python",
   "name": "python3"
  },
  "language_info": {
   "codemirror_mode": {
    "name": "ipython",
    "version": 3
   },
   "file_extension": ".py",
   "mimetype": "text/x-python",
   "name": "python",
   "nbconvert_exporter": "python",
   "pygments_lexer": "ipython3",
   "version": "3.11.0"
  }
 },
 "nbformat": 4,
 "nbformat_minor": 5
}
